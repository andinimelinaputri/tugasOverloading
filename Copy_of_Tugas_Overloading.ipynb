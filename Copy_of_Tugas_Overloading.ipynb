{
  "nbformat": 4,
  "nbformat_minor": 0,
  "metadata": {
    "colab": {
      "provenance": [],
      "include_colab_link": true
    },
    "kernelspec": {
      "name": "python3",
      "display_name": "Python 3"
    },
    "language_info": {
      "name": "python"
    }
  },
  "cells": [
    {
      "cell_type": "markdown",
      "metadata": {
        "id": "view-in-github",
        "colab_type": "text"
      },
      "source": [
        "<a href=\"https://colab.research.google.com/github/andinimelinaputri/tugasOverloading/blob/main/Copy_of_Tugas_Overloading.ipynb\" target=\"_parent\"><img src=\"https://colab.research.google.com/assets/colab-badge.svg\" alt=\"Open In Colab\"/></a>"
      ]
    },
    {
      "cell_type": "code",
      "execution_count": 8,
      "metadata": {
        "id": "cytAUNWzM1-6"
      },
      "outputs": [],
      "source": [
        "#Buat Perkalian yang memiliki Sebuah fungsi dangan nama Hitung\n",
        "class Perkalian:\n",
        "#method hasil() dengan variasi parameter\n",
        "  def hasil(self, *args):\n",
        "        if (len(args) <= 4):\n",
        "            sum = 1\n",
        "            for num in args:\n",
        "                sum += num\n",
        "            print(sum)\n",
        "        else:\n",
        "            print(\"Maksimum 4 argumen\")\n",
        "\n"
      ]
    },
    {
      "cell_type": "code",
      "source": [
        "#Buat main program\n",
        "coba = Perkalian()\n",
        "#Panggil fungsi Hitung untuk menghitung 2 parameter\n",
        "coba.hasil(1, 2)\n",
        "#Panggil fungsi Hitung untuk menghitung 3 parameter\n",
        "coba.hasil(1, 2, 3)\n",
        "#Panggil fungsi Hitung untuk menghitung 4 parameter\n",
        "coba.hasil(1, 2, 3, 4)"
      ],
      "metadata": {
        "id": "W9hN-kX7PDUI",
        "colab": {
          "base_uri": "https://localhost:8080/"
        },
        "outputId": "b2dc9e90-8e39-4247-b54a-5e37f201fde5"
      },
      "execution_count": 10,
      "outputs": [
        {
          "output_type": "stream",
          "name": "stdout",
          "text": [
            "4\n",
            "7\n",
            "11\n"
          ]
        }
      ]
    }
  ]
}